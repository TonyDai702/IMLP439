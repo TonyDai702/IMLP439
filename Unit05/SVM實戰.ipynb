{
 "cells": [
  {
   "cell_type": "markdown",
   "metadata": {},
   "source": [
    "# 乳癌資料庫預測SVM分類\n",
    ">使用scikit-learn 機器學習套件裡的SVR演算法\n",
    "\n",
    "* (一)引入函式庫及內建乳癌資料集<br>\n",
    "引入之函式庫如下<br>\n",
    "sklearn.datasets: 用來匯入內建之乳癌資料集`datasets.load_breast_cancer()`<br>\n",
    "sklearn.SVR: 支持向量機回歸分析之演算法<br>\n",
    "matplotlib.pyplot: 用來繪製影像"
   ]
  },
  {
   "cell_type": "code",
   "execution_count": 2,
   "metadata": {},
   "outputs": [],
   "source": [
    "from sklearn import svm\n",
    "from sklearn import datasets\n",
    "from sklearn.model_selection import train_test_split\n",
    "from sklearn.metrics import accuracy_score"
   ]
  },
  {
   "cell_type": "markdown",
   "metadata": {},
   "source": [
    "## Step1. 下載資料"
   ]
  },
  {
   "cell_type": "code",
   "execution_count": 3,
   "metadata": {},
   "outputs": [
    {
     "name": "stdout",
     "output_type": "stream",
     "text": [
      "dict_keys(['data', 'target', 'frame', 'target_names', 'DESCR', 'feature_names', 'filename', 'data_module'])\n"
     ]
    }
   ],
   "source": [
    "import matplotlib.pyplot as plt\n",
    "breast_cancer=datasets.load_breast_cancer()\n",
    "print(breast_cancer.keys())"
   ]
  },
  {
   "cell_type": "code",
   "execution_count": 4,
   "metadata": {},
   "outputs": [],
   "source": [
    "X=breast_cancer.data\n",
    "y=breast_cancer.target"
   ]
  },
  {
   "cell_type": "code",
   "execution_count": null,
   "metadata": {},
   "outputs": [],
   "source": []
  },
  {
   "cell_type": "markdown",
   "metadata": {},
   "source": [
    "## Step2. 區分訓練集與測試集"
   ]
  },
  {
   "cell_type": "code",
   "execution_count": 5,
   "metadata": {},
   "outputs": [],
   "source": [
    "X_train, X_test, y_train, y_test = train_test_split(X, y,test_size=0.3,random_state=0)"
   ]
  },
  {
   "cell_type": "markdown",
   "metadata": {},
   "source": [
    "## Step3. 建模"
   ]
  },
  {
   "cell_type": "code",
   "execution_count": 7,
   "metadata": {},
   "outputs": [
    {
     "name": "stdout",
     "output_type": "stream",
     "text": [
      "score for train (kernel=rbf, C=1, gamma=1) is: 1.0\n",
      "score for test (kernel=rbf, C=1, gamma=1) is: 0.631578947368421\n",
      "score for train (kernel=linear, C=1, gamma=1) is: 0.964824120603015\n",
      "score for test (kernel=linear, C=1, gamma=1) is: 0.9590643274853801\n",
      "score for train (kernel=rbf, C=1, gamma=3) is: 1.0\n",
      "score for test (kernel=rbf, C=1, gamma=3) is: 0.631578947368421\n",
      "score for train (kernel=linear, C=1, gamma=3) is: 0.964824120603015\n",
      "score for test (kernel=linear, C=1, gamma=3) is: 0.9590643274853801\n",
      "score for train (kernel=rbf, C=1, gamma=5) is: 1.0\n",
      "score for test (kernel=rbf, C=1, gamma=5) is: 0.631578947368421\n",
      "score for train (kernel=linear, C=1, gamma=5) is: 0.964824120603015\n",
      "score for test (kernel=linear, C=1, gamma=5) is: 0.9590643274853801\n",
      "score for train (kernel=rbf, C=5, gamma=1) is: 1.0\n",
      "score for test (kernel=rbf, C=5, gamma=1) is: 0.631578947368421\n",
      "score for train (kernel=linear, C=5, gamma=1) is: 0.964824120603015\n",
      "score for test (kernel=linear, C=5, gamma=1) is: 0.9590643274853801\n",
      "score for train (kernel=rbf, C=5, gamma=3) is: 1.0\n",
      "score for test (kernel=rbf, C=5, gamma=3) is: 0.631578947368421\n",
      "score for train (kernel=linear, C=5, gamma=3) is: 0.964824120603015\n",
      "score for test (kernel=linear, C=5, gamma=3) is: 0.9590643274853801\n",
      "score for train (kernel=rbf, C=5, gamma=5) is: 1.0\n",
      "score for test (kernel=rbf, C=5, gamma=5) is: 0.631578947368421\n",
      "score for train (kernel=linear, C=5, gamma=5) is: 0.964824120603015\n",
      "score for test (kernel=linear, C=5, gamma=5) is: 0.9590643274853801\n",
      "score for train (kernel=rbf, C=17, gamma=1) is: 1.0\n",
      "score for test (kernel=rbf, C=17, gamma=1) is: 0.631578947368421\n",
      "score for train (kernel=linear, C=17, gamma=1) is: 0.9673366834170855\n",
      "score for test (kernel=linear, C=17, gamma=1) is: 0.9473684210526315\n",
      "score for train (kernel=rbf, C=17, gamma=3) is: 1.0\n",
      "score for test (kernel=rbf, C=17, gamma=3) is: 0.631578947368421\n",
      "score for train (kernel=linear, C=17, gamma=3) is: 0.9673366834170855\n",
      "score for test (kernel=linear, C=17, gamma=3) is: 0.9473684210526315\n",
      "score for train (kernel=rbf, C=17, gamma=5) is: 1.0\n",
      "score for test (kernel=rbf, C=17, gamma=5) is: 0.631578947368421\n",
      "score for train (kernel=linear, C=17, gamma=5) is: 0.9673366834170855\n",
      "score for test (kernel=linear, C=17, gamma=5) is: 0.9473684210526315\n"
     ]
    }
   ],
   "source": [
    "C = [1,5,17]\n",
    "gamma = [1,3,5]\n",
    "kernel = ['rbf', 'linear']\n",
    "\n",
    "for i in range(len(C)):\n",
    "    for j in range(len(gamma)):\n",
    "        for k in range(len(kernel)):\n",
    "            clf=svm.SVC(kernel=f'{kernel[k]}',C=C[i],gamma=gamma[j])\n",
    "            clf.fit(X_train, y_train)\n",
    "            print(f'score for train (kernel={kernel[k]}, C={C[i]}, gamma={gamma[j]}) is: {clf.score(X_train, y_train)}')\n",
    "            print(f'score for test (kernel={kernel[k]}, C={C[i]}, gamma={gamma[j]}) is: {clf.score(X_test, y_test)}')\n"
   ]
  },
  {
   "cell_type": "markdown",
   "metadata": {},
   "source": [
    "## Step4. 預測\n",
    "\n",
    "```\n",
    "\n",
    "```\n"
   ]
  },
  {
   "cell_type": "code",
   "execution_count": null,
   "metadata": {},
   "outputs": [],
   "source": []
  },
  {
   "cell_type": "markdown",
   "metadata": {},
   "source": [
    "## Step5. 準確度分析"
   ]
  },
  {
   "cell_type": "code",
   "execution_count": null,
   "metadata": {},
   "outputs": [],
   "source": []
  },
  {
   "cell_type": "code",
   "execution_count": null,
   "metadata": {},
   "outputs": [],
   "source": []
  }
 ],
 "metadata": {
  "kernelspec": {
   "display_name": "base",
   "language": "python",
   "name": "python3"
  },
  "language_info": {
   "codemirror_mode": {
    "name": "ipython",
    "version": 3
   },
   "file_extension": ".py",
   "mimetype": "text/x-python",
   "name": "python",
   "nbconvert_exporter": "python",
   "pygments_lexer": "ipython3",
   "version": "3.12.7"
  }
 },
 "nbformat": 4,
 "nbformat_minor": 2
}
